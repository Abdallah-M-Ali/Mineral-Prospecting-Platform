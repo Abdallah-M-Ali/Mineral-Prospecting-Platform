{
 "cells": [
  {
   "cell_type": "code",
   "execution_count": 1,
   "metadata": {},
   "outputs": [],
   "source": [
    "from __future__ import print_function\n",
    "\n",
    "import os\n",
    "import sys\n",
    "import time\n",
    "import argparse\n",
    "import datetime\n",
    "import math\n",
    "import pickle\n",
    "\n",
    "\n",
    "import torchvision\n",
    "import torchvision.transforms as transforms\n",
    "from utils.autoaugment import CIFAR10Policy\n",
    "\n",
    "import torch\n",
    "import torch.utils.data as data\n",
    "import numpy as np\n",
    "import torch.nn as nn\n",
    "import torch.optim as optim\n",
    "import torch.nn.functional as F\n",
    "import torch.backends.cudnn as cudnn\n",
    "from torch.autograd import Variable\n",
    "from torchvision import datasets\n",
    "from torch.utils.data.sampler import SubsetRandomSampler"
   ]
  },
  {
   "cell_type": "code",
   "execution_count": 2,
   "metadata": {},
   "outputs": [],
   "source": [
    "# from utils.BBBlayers import GaussianVariationalInference\n",
    "# from utils.BayesianModels.Bayesian3Conv3FC import BBB3Conv3FC\n",
    "# from utils.BayesianModels.BayesianAlexNet import BBBAlexNet\n",
    "# from utils.BayesianModels.BayesianLeNet import BBBLeNet\n",
    "from utils.BayesianModels.BayesianWsNet import BBBWsNet\n",
    "# from utils.BayesianModels.BayesianSqueezeNet import BBBSqueezeNet"
   ]
  },
  {
   "cell_type": "code",
   "execution_count": 3,
   "metadata": {},
   "outputs": [],
   "source": [
    "net_type = 'wsnet'\n",
    "dataset = 'xinjiang'\n",
    "outputs = 2\n",
    "inputs = 5\n",
    "resume = False\n",
    "n_epochs = 200\n",
    "lr = 0.01\n",
    "weight_decay = 0.0005\n",
    "num_samples = 1\n",
    "beta_type = \"Standard\"\n",
    "resize=32"
   ]
  },
  {
   "cell_type": "code",
   "execution_count": 4,
   "metadata": {},
   "outputs": [],
   "source": [
    "# Hyper Parameter settings\n",
    "use_cuda = torch.cuda.is_available()\n",
    "torch.cuda.set_device(0)"
   ]
  },
  {
   "cell_type": "code",
   "execution_count": 22,
   "metadata": {},
   "outputs": [],
   "source": [
    "# number of subprocesses to use for data loading\n",
    "num_workers = 0\n",
    "# how many samples per batch to load\n",
    "batch_size = 16\n",
    "# percentage of training set to use as validation\n",
    "test_size = 0.33"
   ]
  },
  {
   "cell_type": "code",
   "execution_count": 6,
   "metadata": {},
   "outputs": [],
   "source": [
    "## load data\n",
    "file_names = (\"data/xinjiang/labels.csv\",\n",
    "              \"data/xinjiang/fault.csv\",\n",
    "              \"data/xinjiang/formation_buf.csv\",\n",
    "              \"data/xinjiang/granite.csv\",\n",
    "              \"data/xinjiang/hc_reclass.csv\",\n",
    "              \"data/xinjiang/ht_reclass.csv\",)\n",
    "def loadCSVfile(file_name):\n",
    "    tmp = np.loadtxt(file_name, dtype=np.str, delimiter=\",\")\n",
    "    data = tmp[1:,1:].astype(np.float)\n",
    "    return data\n",
    "\n",
    "data_with_label = np.zeros((inputs+1,249,252))-1\n",
    "for i in range(inputs+1):\n",
    "    data_with_label[i] = loadCSVfile(file_names[i])\n"
   ]
  },
  {
   "cell_type": "code",
   "execution_count": 7,
   "metadata": {},
   "outputs": [
    {
     "name": "stdout",
     "output_type": "stream",
     "text": [
      "training data:  (34807, 5)\n",
      "test data:  (34807, 5)\n"
     ]
    }
   ],
   "source": [
    "## split data into train and test\n",
    "\n",
    "# remove useless data\n",
    "data_with_label_all   = data_with_label.reshape((data_with_label.shape[0],-1)).transpose()\n",
    "sum_data_dims         = data_with_label_all.sum(1)\n",
    "data_with_label_final = data_with_label_all[sum_data_dims != -(inputs+1),:]\n",
    "\n",
    "# split into train and test\n",
    "num_data = len(data_with_label_final)\n",
    "indices = list(range(num_data))\n",
    "np.random.shuffle(indices)\n",
    "split = int(np.floor(test_size * num_data))\n",
    "train_idx, test_idx = indices[split:], indices[:split]\n",
    "\n",
    "# split\n",
    "# train_data  = data_with_label_final[train_idx, 1:]\n",
    "# train_label = data_with_label_final[train_idx, 0]\n",
    "# test_data   = data_with_label_final[test_idx,  1:]\n",
    "# test_label  = data_with_label_final[test_idx,  0]\n",
    "\n",
    "# all data used as training data\n",
    "train_data  = data_with_label_final[:, 1:]\n",
    "train_label = data_with_label_final[:, 0]\n",
    "test_data   = data_with_label_final[:,  1:]\n",
    "test_label  = data_with_label_final[:,  0]\n",
    "\n",
    "print(\"training data: \", train_data.shape)\n",
    "print(\"test data: \", test_data.shape)"
   ]
  },
  {
   "cell_type": "code",
   "execution_count": 32,
   "metadata": {},
   "outputs": [],
   "source": [
    "# # convert label to one-hot type\n",
    "\n",
    "# from sklearn import preprocessing\n",
    "# import numpy as np\n",
    "# label = preprocessing.LabelEncoder()\n",
    "# one_hot = preprocessing.OneHotEncoder(sparse = False)\n",
    "\n",
    "# train_label[train_label>=0]  = 1\n",
    "# train_label[train_label<0]   = 0\n",
    "# test_label[test_label>=0]    = 1\n",
    "# test_label[test_label<0]     = 0\n",
    "\n",
    "# train_label = one_hot.fit_transform(train_label.reshape(-1,1))\n",
    "# test_label  = one_hot.fit_transform(test_label.reshape(-1,1))\n",
    "\n",
    "# print(\"training label: \", train_label.shape)\n",
    "# print(\"test label: \", test_label.shape)"
   ]
  },
  {
   "cell_type": "code",
   "execution_count": 8,
   "metadata": {},
   "outputs": [
    {
     "name": "stdout",
     "output_type": "stream",
     "text": [
      "postive data:  23\n"
     ]
    }
   ],
   "source": [
    "# convert label to single int type\n",
    "\n",
    "train_label[train_label>=0]  = 1\n",
    "train_label[train_label<0]   = 0\n",
    "test_label = train_label\n",
    "\n",
    "print('postive data: ', (train_label == 1).sum())"
   ]
  },
  {
   "cell_type": "code",
   "execution_count": 34,
   "metadata": {},
   "outputs": [],
   "source": [
    "# specify the image classes\n",
    "classes = ['positive', 'negative']"
   ]
  },
  {
   "cell_type": "code",
   "execution_count": 9,
   "metadata": {},
   "outputs": [],
   "source": [
    "# Architecture\n",
    "if (net_type == 'wsnet'):\n",
    "    net = BBBWsNet(outputs,inputs)\n",
    "else:\n",
    "    print('Error : Network should be WsNet')\n"
   ]
  },
  {
   "cell_type": "code",
   "execution_count": 10,
   "metadata": {},
   "outputs": [],
   "source": [
    "if use_cuda:\n",
    "    net.cuda()"
   ]
  },
  {
   "cell_type": "code",
   "execution_count": 11,
   "metadata": {},
   "outputs": [
    {
     "data": {
      "text/plain": [
       "'output/model_wsnet_xinjiang_bayesian.pt'"
      ]
     },
     "execution_count": 11,
     "metadata": {},
     "output_type": "execute_result"
    }
   ],
   "source": [
    "ckpt_name = f'output/model_{net_type}_{dataset}_bayesian.pt'\n",
    "ckpt_name"
   ]
  },
  {
   "cell_type": "code",
   "execution_count": 12,
   "metadata": {},
   "outputs": [],
   "source": [
    "\n",
    "def get_beta(batch_idx, m, beta_type):\n",
    "    if beta_type == \"Blundell\":\n",
    "        beta = 2 ** (m - (batch_idx + 1)) / (2 ** m - 1) \n",
    "    elif beta_type == \"Soenderby\":\n",
    "        beta = min(epoch / (num_epochs // 4), 1)\n",
    "    elif beta_type == \"Standard\":\n",
    "        beta = 1 / m \n",
    "    else:\n",
    "        beta = 0\n",
    "    return beta\n",
    "\n"
   ]
  },
  {
   "cell_type": "code",
   "execution_count": 13,
   "metadata": {},
   "outputs": [],
   "source": [
    "def elbo(out, y, kl, beta):\n",
    "    loss = F.cross_entropy(out, y)\n",
    "    return loss + beta * kl"
   ]
  },
  {
   "cell_type": "code",
   "execution_count": 18,
   "metadata": {},
   "outputs": [],
   "source": [
    "def train(epoch, bs, train_data, train_label):\n",
    "    print('Epoch: %d' % epoch)\n",
    "    net.train()\n",
    "    train_loss = 0\n",
    "    correct = 0\n",
    "    total = 0\n",
    "    numTrainData = len(train_data)\n",
    "    numTrainBatch = int(numTrainData / bs)\n",
    "    iter_all = 0\n",
    "    for idx in range(numTrainBatch):\n",
    "#         inputs, targets = train_data[idx*bs:(idx+1)*bs,:], train_label[idx*bs:(idx+1)*bs,:]\n",
    "        inputs, targets = train_data[idx*bs:(idx+1)*bs,:], train_label[idx*bs:(idx+1)*bs]\n",
    "        inputs, targets = torch.from_numpy(inputs).float(), torch.from_numpy(targets).long()\n",
    "        inputs, targets = Variable(inputs), Variable(targets)\n",
    "        inputs, targets = inputs.cuda(), targets.cuda()\n",
    "        if targets.sum() == 0:\n",
    "            continue\n",
    "        else:\n",
    "            iter_all += 1      \n",
    "        optimizer.zero_grad()\n",
    "        outputs, kl = net.probforward(inputs)\n",
    "        print(outputs, targets)\n",
    "        loss = elbo(outputs, targets, kl, get_beta(epoch, len(train_data), beta_type))\n",
    "        loss.backward()\n",
    "        optimizer.step()\n",
    "        pred = torch.max(outputs, dim=1)[1]\n",
    "        correct += torch.sum(pred.eq(targets)).item()\n",
    "        total += targets.numel()\n",
    "    print(f'[TRAIN] Acc: {100.*correct/total:.3f}, Iter: {iter_all:d}')\n"
   ]
  },
  {
   "cell_type": "code",
   "execution_count": 15,
   "metadata": {},
   "outputs": [],
   "source": [
    "def test(epoch, bs, test_data, test_label):\n",
    "    net.eval()\n",
    "    test_loss = 0\n",
    "    correct = 0\n",
    "    total = 0\n",
    "    accuracy_max = 0    \n",
    "    numTestData = len(test_data)\n",
    "    numTestBatch = int(numTestData / bs)\n",
    "    with torch.no_grad():\n",
    "        for idx in range(numTestBatch):\n",
    "#             inputs, targets = train_data[idx*bs:(idx+1)*bs,:], train_label[idx*bs:(idx+1)*bs,:]\n",
    "            inputs, targets = train_data[idx*bs:(idx+1)*bs,:], train_label[idx*bs:(idx+1)*bs]\n",
    "            inputs, targets = torch.from_numpy(inputs).float(), torch.from_numpy(targets).long()\n",
    "            inputs, targets = Variable(inputs), Variable(targets)\n",
    "            inputs, targets = inputs.cuda(), targets.cuda() \n",
    "            outputs, _ = net.probforward(inputs)\n",
    "            _, predicted = outputs.max(1)\n",
    "            total += targets.size(0)\n",
    "            correct += predicted.eq(targets).sum().item()\n",
    "            accuracy = 100.*correct/total\n",
    "        print(f'[TEST] Acc: {accuracy:.3f}')\n",
    "        \n",
    "\n",
    "    torch.save(net.state_dict(), ckpt_name)\n",
    "    "
   ]
  },
  {
   "cell_type": "code",
   "execution_count": 20,
   "metadata": {},
   "outputs": [],
   "source": [
    "epochs = [10,]\n",
    "count = 0\n"
   ]
  },
  {
   "cell_type": "code",
   "execution_count": null,
   "metadata": {
    "scrolled": true
   },
   "outputs": [
    {
     "name": "stdout",
     "output_type": "stream",
     "text": [
      "Epoch: 240\n",
      "[TRAIN] Acc: 93.750, Iter: 23\n",
      "[TEST] Acc: 99.934\n",
      "Epoch: 241\n",
      "[TRAIN] Acc: 93.750, Iter: 23\n",
      "[TEST] Acc: 99.934\n",
      "Epoch: 242\n",
      "[TRAIN] Acc: 93.750, Iter: 23\n",
      "[TEST] Acc: 99.934\n",
      "Epoch: 243\n",
      "[TRAIN] Acc: 93.750, Iter: 23\n",
      "[TEST] Acc: 99.934\n",
      "Epoch: 244\n",
      "[TRAIN] Acc: 93.750, Iter: 23\n",
      "[TEST] Acc: 99.934\n",
      "Epoch: 245\n",
      "[TRAIN] Acc: 93.750, Iter: 23\n",
      "[TEST] Acc: 99.934\n",
      "Epoch: 246\n",
      "[TRAIN] Acc: 93.750, Iter: 23\n",
      "[TEST] Acc: 99.934\n",
      "Epoch: 247\n",
      "[TRAIN] Acc: 93.750, Iter: 23\n",
      "[TEST] Acc: 99.934\n",
      "Epoch: 248\n",
      "[TRAIN] Acc: 93.750, Iter: 23\n",
      "[TEST] Acc: 99.934\n",
      "Epoch: 249\n",
      "[TRAIN] Acc: 93.750, Iter: 23\n",
      "[TEST] Acc: 99.934\n",
      "Epoch: 250\n",
      "[TRAIN] Acc: 93.750, Iter: 23\n",
      "[TEST] Acc: 99.934\n",
      "Epoch: 251\n",
      "[TRAIN] Acc: 93.750, Iter: 23\n",
      "[TEST] Acc: 99.934\n",
      "Epoch: 252\n",
      "[TRAIN] Acc: 93.466, Iter: 22\n",
      "[TEST] Acc: 99.934\n",
      "Epoch: 253\n",
      "[TRAIN] Acc: 93.750, Iter: 23\n",
      "[TEST] Acc: 99.934\n",
      "Epoch: 254\n",
      "[TRAIN] Acc: 93.750, Iter: 23\n",
      "[TEST] Acc: 99.934\n",
      "Epoch: 255\n",
      "[TRAIN] Acc: 93.750, Iter: 23\n",
      "[TEST] Acc: 99.934\n",
      "Epoch: 256\n",
      "[TRAIN] Acc: 93.750, Iter: 23\n",
      "[TEST] Acc: 99.934\n",
      "Epoch: 257\n",
      "[TRAIN] Acc: 93.750, Iter: 23\n",
      "[TEST] Acc: 99.934\n",
      "Epoch: 258\n",
      "[TRAIN] Acc: 93.750, Iter: 23\n",
      "[TEST] Acc: 99.934\n",
      "Epoch: 259\n",
      "[TRAIN] Acc: 93.750, Iter: 23\n",
      "[TEST] Acc: 99.934\n",
      "Epoch: 260\n",
      "[TRAIN] Acc: 93.750, Iter: 23\n",
      "[TEST] Acc: 99.934\n",
      "Epoch: 261\n",
      "[TRAIN] Acc: 93.466, Iter: 22\n",
      "[TEST] Acc: 99.934\n",
      "Epoch: 262\n",
      "[TRAIN] Acc: 93.750, Iter: 23\n",
      "[TEST] Acc: 99.934\n",
      "Epoch: 263\n",
      "[TRAIN] Acc: 93.155, Iter: 21\n",
      "[TEST] Acc: 99.934\n",
      "Epoch: 264\n",
      "[TRAIN] Acc: 93.466, Iter: 22\n",
      "[TEST] Acc: 99.934\n",
      "Epoch: 265\n",
      "[TRAIN] Acc: 93.750, Iter: 23\n",
      "[TEST] Acc: 99.934\n",
      "Epoch: 266\n",
      "[TRAIN] Acc: 93.750, Iter: 23\n",
      "[TEST] Acc: 99.934\n",
      "Epoch: 267\n",
      "[TRAIN] Acc: 93.750, Iter: 23\n",
      "[TEST] Acc: 99.934\n",
      "Epoch: 268\n",
      "[TRAIN] Acc: 93.750, Iter: 23\n",
      "[TEST] Acc: 99.934\n",
      "Epoch: 269\n",
      "[TRAIN] Acc: 93.466, Iter: 22\n",
      "[TEST] Acc: 99.934\n",
      "Epoch: 270\n",
      "[TRAIN] Acc: 93.750, Iter: 23\n",
      "[TEST] Acc: 99.934\n",
      "Epoch: 271\n",
      "[TRAIN] Acc: 93.750, Iter: 23\n",
      "[TEST] Acc: 99.934\n",
      "Epoch: 272\n",
      "[TRAIN] Acc: 93.750, Iter: 23\n",
      "[TEST] Acc: 99.934\n",
      "Epoch: 273\n",
      "[TRAIN] Acc: 93.750, Iter: 23\n",
      "[TEST] Acc: 99.934\n",
      "Epoch: 274\n",
      "[TRAIN] Acc: 93.750, Iter: 23\n",
      "[TEST] Acc: 99.934\n",
      "Epoch: 275\n",
      "[TRAIN] Acc: 93.750, Iter: 23\n",
      "[TEST] Acc: 99.934\n",
      "Epoch: 276\n",
      "[TRAIN] Acc: 93.750, Iter: 23\n",
      "[TEST] Acc: 99.934\n",
      "Epoch: 277\n",
      "[TRAIN] Acc: 93.750, Iter: 23\n",
      "[TEST] Acc: 99.934\n",
      "Epoch: 278\n",
      "[TRAIN] Acc: 93.750, Iter: 23\n",
      "[TEST] Acc: 99.934\n",
      "Epoch: 279\n",
      "[TRAIN] Acc: 93.750, Iter: 23\n",
      "[TEST] Acc: 99.934\n",
      "Epoch: 280\n",
      "[TRAIN] Acc: 93.750, Iter: 23\n",
      "[TEST] Acc: 99.934\n",
      "Epoch: 281\n",
      "[TRAIN] Acc: 93.750, Iter: 23\n",
      "[TEST] Acc: 99.934\n",
      "Epoch: 282\n",
      "[TRAIN] Acc: 93.750, Iter: 23\n",
      "[TEST] Acc: 99.934\n",
      "Epoch: 283\n",
      "[TRAIN] Acc: 93.750, Iter: 23\n",
      "[TEST] Acc: 99.934\n",
      "Epoch: 284\n",
      "[TRAIN] Acc: 93.750, Iter: 23\n",
      "[TEST] Acc: 99.934\n",
      "Epoch: 285\n",
      "[TRAIN] Acc: 93.466, Iter: 22\n",
      "[TEST] Acc: 99.934\n",
      "Epoch: 286\n",
      "[TRAIN] Acc: 93.750, Iter: 23\n",
      "[TEST] Acc: 99.934\n",
      "Epoch: 287\n",
      "[TRAIN] Acc: 93.750, Iter: 23\n",
      "[TEST] Acc: 99.934\n",
      "Epoch: 288\n",
      "[TRAIN] Acc: 93.750, Iter: 23\n",
      "[TEST] Acc: 99.934\n",
      "Epoch: 289\n",
      "[TRAIN] Acc: 93.750, Iter: 23\n",
      "[TEST] Acc: 99.934\n",
      "Epoch: 290\n",
      "[TRAIN] Acc: 93.750, Iter: 23\n",
      "[TEST] Acc: 99.934\n",
      "Epoch: 291\n",
      "[TRAIN] Acc: 93.750, Iter: 23\n",
      "[TEST] Acc: 99.934\n",
      "Epoch: 292\n",
      "[TRAIN] Acc: 93.750, Iter: 23\n",
      "[TEST] Acc: 99.934\n",
      "Epoch: 293\n",
      "[TRAIN] Acc: 93.750, Iter: 23\n",
      "[TEST] Acc: 99.934\n",
      "Epoch: 294\n",
      "[TRAIN] Acc: 93.466, Iter: 22\n",
      "[TEST] Acc: 99.934\n",
      "Epoch: 295\n",
      "[TRAIN] Acc: 93.750, Iter: 23\n",
      "[TEST] Acc: 99.934\n",
      "Epoch: 296\n",
      "[TRAIN] Acc: 93.750, Iter: 23\n",
      "[TEST] Acc: 99.934\n",
      "Epoch: 297\n",
      "[TRAIN] Acc: 93.466, Iter: 22\n"
     ]
    }
   ],
   "source": [
    "from torch.optim import Adam\n",
    "bs = batch_size\n",
    "for epoch in epochs:\n",
    "    optimizer = Adam(net.parameters(), lr=lr)\n",
    "    for _ in range(epoch):\n",
    "        ## shuffle training data\n",
    "        indices = list(range(len(train_data)))\n",
    "        np.random.shuffle(indices)\n",
    "        train_data  = train_data[indices,:]\n",
    "#         train_label = train_label[indices,:]\n",
    "        train_label = train_label[indices]\n",
    "        train(count, bs, train_data, train_label)\n",
    "        test(count, bs, test_data, test_label)\n",
    "        count += 1\n",
    "    lr /= 10"
   ]
  },
  {
   "cell_type": "code",
   "execution_count": 24,
   "metadata": {},
   "outputs": [
    {
     "data": {
      "text/plain": [
       "16"
      ]
     },
     "execution_count": 24,
     "metadata": {},
     "output_type": "execute_result"
    }
   ],
   "source": [
    "batch_size"
   ]
  }
 ],
 "metadata": {
  "kernelspec": {
   "display_name": "Python 3",
   "language": "python",
   "name": "python3"
  },
  "language_info": {
   "codemirror_mode": {
    "name": "ipython",
    "version": 3
   },
   "file_extension": ".py",
   "mimetype": "text/x-python",
   "name": "python",
   "nbconvert_exporter": "python",
   "pygments_lexer": "ipython3",
   "version": "3.7.2"
  }
 },
 "nbformat": 4,
 "nbformat_minor": 2
}
